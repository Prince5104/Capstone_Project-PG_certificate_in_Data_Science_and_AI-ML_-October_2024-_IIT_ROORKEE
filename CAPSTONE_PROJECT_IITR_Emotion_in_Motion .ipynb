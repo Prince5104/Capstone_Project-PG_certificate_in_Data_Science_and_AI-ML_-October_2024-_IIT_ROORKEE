{
 "cells": [
  {
   "cell_type": "markdown",
   "id": "c0e9a61c-b922-4d4a-827e-0d1de6cea670",
   "metadata": {},
   "source": [
    "# **Emotions in Motion: Building a Mood Prediction Engine with FitLife**"
   ]
  },
  {
   "cell_type": "markdown",
   "id": "f9138941-08cc-44ad-ab2d-328648e65c7a",
   "metadata": {},
   "source": [
    "##  **Project Aim**\n",
    "\n",
    " #### **This project is a part of my capstone for the `PG Certification Program in Applied Data Science and AI, E&ICT` from `IIT ROORKEE` in collaboration with `CloudxLab`.**\n",
    "\n",
    " #### **My goal here was to build a machine learning pipeline that can predict a person’s mood (`Bad`, `Neutral`, `Good`) based on their daily activities. I’ve used behavioral data like `activity type`, `duration`, `time of day`, and `emotional ratings` to train different models and evaluate how well they can understand emotional patterns.**\n",
    "\n",
    "\n",
    "---\n",
    "\n",
    "##  **About the Dataset**\n",
    "\n",
    "#### **`FitLife: Emotions in Motion` is a synthetic but thoughtfully designed dataset that simulates how human emotions evolve throughout the day based on lifestyle activities. With `100,000+ records`, it offers a rare opportunity to explore `behavioral psychology` through the lens of `data science`.**\n",
    "\n",
    "##  **Key Highlights:**\n",
    "- #### **`Demographics`: Age, Gender**  \n",
    "- #### **`Emotions`: Mood Before & After, Primary and Secondary Emotions**  \n",
    "- #### **`Temporal Tags`: Date & Time of Day**  \n",
    "- #### **`Activity Metrics`: Category, Sub-Category, Duration, Intensity**  \n",
    "- #### **`Physical Factors`: Stress Level & Energy Level**  \n",
    "\n",
    "##  **Why This Dataset Is Valuable:**\n",
    "- #### **Understand how daily habits (exercise, social interaction, screen time, etc.) shape mood**\n",
    "- #### **Detect emotional shifts based on behavioral patterns**\n",
    "- #### **Apply ML for mental wellness forecasting**\n",
    "- #### **Ideal for EDA, visual storytelling, classification models & time series insights**"
   ]
  },
  {
   "cell_type": "markdown",
   "id": "d279d03c-7ab6-46cf-af1f-5b1f5b29bb48",
   "metadata": {},
   "source": [
    "## **Step 1: Import Required Libraries**\n",
    "- #### **Load all the libraries used for data, visualization, modeling, and deep learning.**"
   ]
  },
  {
   "cell_type": "code",
   "execution_count": 1,
   "id": "80413d5c-885f-4fe6-b1c8-6e5f1c314385",
   "metadata": {},
   "outputs": [
    {
     "name": "stderr",
     "output_type": "stream",
     "text": [
      "2025-07-24 16:21:06.722226: I external/local_xla/xla/tsl/cuda/cudart_stub.cc:32] Could not find cuda drivers on your machine, GPU will not be used.\n",
      "2025-07-24 16:21:06.876327: I external/local_xla/xla/tsl/cuda/cudart_stub.cc:32] Could not find cuda drivers on your machine, GPU will not be used.\n",
      "2025-07-24 16:21:07.008574: E external/local_xla/xla/stream_executor/cuda/cuda_fft.cc:467] Unable to register cuFFT factory: Attempting to register factory for plugin cuFFT when one has already been registered\n",
      "WARNING: All log messages before absl::InitializeLog() is called are written to STDERR\n",
      "E0000 00:00:1753354267.174399    8426 cuda_dnn.cc:8579] Unable to register cuDNN factory: Attempting to register factory for plugin cuDNN when one has already been registered\n",
      "E0000 00:00:1753354267.216184    8426 cuda_blas.cc:1407] Unable to register cuBLAS factory: Attempting to register factory for plugin cuBLAS when one has already been registered\n",
      "W0000 00:00:1753354267.470814    8426 computation_placer.cc:177] computation placer already registered. Please check linkage and avoid linking the same target more than once.\n",
      "W0000 00:00:1753354267.470900    8426 computation_placer.cc:177] computation placer already registered. Please check linkage and avoid linking the same target more than once.\n",
      "W0000 00:00:1753354267.470908    8426 computation_placer.cc:177] computation placer already registered. Please check linkage and avoid linking the same target more than once.\n",
      "W0000 00:00:1753354267.470914    8426 computation_placer.cc:177] computation placer already registered. Please check linkage and avoid linking the same target more than once.\n",
      "2025-07-24 16:21:07.504755: I tensorflow/core/platform/cpu_feature_guard.cc:210] This TensorFlow binary is optimized to use available CPU instructions in performance-critical operations.\n",
      "To enable the following instructions: AVX2 FMA, in other operations, rebuild TensorFlow with the appropriate compiler flags.\n"
     ]
    }
   ],
   "source": [
    "import os\n",
    "import shap\n",
    "import pandas as pd\n",
    "import numpy as np\n",
    "import matplotlib.pyplot as plt\n",
    "import seaborn as sns\n",
    "from sklearn.model_selection import train_test_split, GridSearchCV\n",
    "from sklearn.preprocessing import LabelEncoder, StandardScaler\n",
    "from sklearn.ensemble import RandomForestClassifier\n",
    "from sklearn.metrics import classification_report, confusion_matrix, accuracy_score, ConfusionMatrixDisplay\n",
    "from xgboost import XGBClassifier\n",
    "from tensorflow import keras\n",
    "from keras.utils import to_categorical\n",
    "from tensorflow.keras.models import Sequential\n",
    "from keras.layers import Dropout, Dense, BatchNormalization\n",
    "from tensorflow.keras.callbacks import EarlyStopping, ReduceLROnPlateau\n",
    "from tensorflow.keras import backend as K\n",
    "from imblearn.over_sampling import SMOTE\n",
    "import warnings\n",
    "warnings.filterwarnings(\"ignore\")"
   ]
  },
  {
   "cell_type": "markdown",
   "id": "06ab44bd-8116-4d3b-b76d-b5df509a0e5c",
   "metadata": {},
   "source": [
    "## **Step 2: Load the Dataset**\n",
    "\n",
    "- #### **This data allowed me to work on a real-world like problem that connects data science with human emotions and psychology.**\n"
   ]
  },
  {
   "cell_type": "code",
   "execution_count": 2,
   "id": "b3f01cf4-4d2a-4b3d-bbda-b76d49a6fc18",
   "metadata": {},
   "outputs": [],
   "source": [
    "df = pd.read_csv('fitlife_dataset.csv')"
   ]
  },
  {
   "cell_type": "markdown",
   "id": "569ef3ad-8090-4a54-b669-da0c40ec8185",
   "metadata": {},
   "source": [
    "## **Step 3: Initial Data Exploration**\n",
    "- #### **View the first few rows and structure of your dataset.**"
   ]
  },
  {
   "cell_type": "code",
   "execution_count": 3,
   "id": "ca6b26e2-7dbf-417b-a1c2-b15b31212a54",
   "metadata": {},
   "outputs": [
    {
     "data": {
      "text/html": [
       "<div>\n",
       "<style scoped>\n",
       "    .dataframe tbody tr th:only-of-type {\n",
       "        vertical-align: middle;\n",
       "    }\n",
       "\n",
       "    .dataframe tbody tr th {\n",
       "        vertical-align: top;\n",
       "    }\n",
       "\n",
       "    .dataframe thead th {\n",
       "        text-align: right;\n",
       "    }\n",
       "</style>\n",
       "<table border=\"1\" class=\"dataframe\">\n",
       "  <thead>\n",
       "    <tr style=\"text-align: right;\">\n",
       "      <th></th>\n",
       "      <th>Date</th>\n",
       "      <th>Age</th>\n",
       "      <th>Gender</th>\n",
       "      <th>Employment Status</th>\n",
       "      <th>Time of Day</th>\n",
       "      <th>Activity Category</th>\n",
       "      <th>Sub-Category</th>\n",
       "      <th>Activity</th>\n",
       "      <th>Duration (minutes)</th>\n",
       "      <th>Intensity</th>\n",
       "      <th>Primary Emotion</th>\n",
       "      <th>Secondary Emotion</th>\n",
       "      <th>Mood Before (1-10)</th>\n",
       "      <th>Mood After (1-10)</th>\n",
       "      <th>Energy Level (1-10)</th>\n",
       "      <th>Stress Level (1-10)</th>\n",
       "    </tr>\n",
       "  </thead>\n",
       "  <tbody>\n",
       "    <tr>\n",
       "      <th>0</th>\n",
       "      <td>2024-06-15</td>\n",
       "      <td>34</td>\n",
       "      <td>Male</td>\n",
       "      <td>Retired</td>\n",
       "      <td>Afternoon</td>\n",
       "      <td>Physical - Exercise</td>\n",
       "      <td>Mind-Body</td>\n",
       "      <td>Stretching</td>\n",
       "      <td>79</td>\n",
       "      <td>High</td>\n",
       "      <td>Energized</td>\n",
       "      <td>Challenged</td>\n",
       "      <td>3</td>\n",
       "      <td>3</td>\n",
       "      <td>6</td>\n",
       "      <td>9</td>\n",
       "    </tr>\n",
       "    <tr>\n",
       "      <th>1</th>\n",
       "      <td>2024-02-24</td>\n",
       "      <td>30</td>\n",
       "      <td>Prefer not to say</td>\n",
       "      <td>Retired</td>\n",
       "      <td>Night</td>\n",
       "      <td>Physical - Sports</td>\n",
       "      <td>Extreme Sports</td>\n",
       "      <td>Bungee Jumping</td>\n",
       "      <td>72</td>\n",
       "      <td>High</td>\n",
       "      <td>Accomplished</td>\n",
       "      <td>Accomplished</td>\n",
       "      <td>6</td>\n",
       "      <td>7</td>\n",
       "      <td>4</td>\n",
       "      <td>9</td>\n",
       "    </tr>\n",
       "    <tr>\n",
       "      <th>2</th>\n",
       "      <td>2024-06-05</td>\n",
       "      <td>75</td>\n",
       "      <td>Female</td>\n",
       "      <td>Employed</td>\n",
       "      <td>Night</td>\n",
       "      <td>Relaxation</td>\n",
       "      <td>Entertainment</td>\n",
       "      <td>Music Listening</td>\n",
       "      <td>117</td>\n",
       "      <td>High</td>\n",
       "      <td>Energized</td>\n",
       "      <td>Recharged</td>\n",
       "      <td>7</td>\n",
       "      <td>8</td>\n",
       "      <td>7</td>\n",
       "      <td>6</td>\n",
       "    </tr>\n",
       "    <tr>\n",
       "      <th>3</th>\n",
       "      <td>2024-06-05</td>\n",
       "      <td>28</td>\n",
       "      <td>Prefer not to say</td>\n",
       "      <td>Retired</td>\n",
       "      <td>Night</td>\n",
       "      <td>Relaxation</td>\n",
       "      <td>Leisure</td>\n",
       "      <td>Baking</td>\n",
       "      <td>78</td>\n",
       "      <td>High</td>\n",
       "      <td>Accomplished</td>\n",
       "      <td>Serene</td>\n",
       "      <td>7</td>\n",
       "      <td>8</td>\n",
       "      <td>8</td>\n",
       "      <td>9</td>\n",
       "    </tr>\n",
       "    <tr>\n",
       "      <th>4</th>\n",
       "      <td>2024-01-05</td>\n",
       "      <td>75</td>\n",
       "      <td>Female</td>\n",
       "      <td>Student</td>\n",
       "      <td>Afternoon</td>\n",
       "      <td>Physical - Sports</td>\n",
       "      <td>Team Sports</td>\n",
       "      <td>Basketball</td>\n",
       "      <td>55</td>\n",
       "      <td>Medium</td>\n",
       "      <td>Flexible</td>\n",
       "      <td>Challenged</td>\n",
       "      <td>7</td>\n",
       "      <td>8</td>\n",
       "      <td>6</td>\n",
       "      <td>2</td>\n",
       "    </tr>\n",
       "  </tbody>\n",
       "</table>\n",
       "</div>"
      ],
      "text/plain": [
       "         Date  Age             Gender Employment Status Time of Day  \\\n",
       "0  2024-06-15   34               Male           Retired   Afternoon   \n",
       "1  2024-02-24   30  Prefer not to say           Retired       Night   \n",
       "2  2024-06-05   75             Female          Employed       Night   \n",
       "3  2024-06-05   28  Prefer not to say           Retired       Night   \n",
       "4  2024-01-05   75             Female           Student   Afternoon   \n",
       "\n",
       "     Activity Category    Sub-Category         Activity  Duration (minutes)  \\\n",
       "0  Physical - Exercise       Mind-Body       Stretching                  79   \n",
       "1    Physical - Sports  Extreme Sports   Bungee Jumping                  72   \n",
       "2           Relaxation   Entertainment  Music Listening                 117   \n",
       "3           Relaxation         Leisure           Baking                  78   \n",
       "4    Physical - Sports     Team Sports       Basketball                  55   \n",
       "\n",
       "  Intensity Primary Emotion Secondary Emotion  Mood Before (1-10)  \\\n",
       "0      High       Energized        Challenged                   3   \n",
       "1      High    Accomplished      Accomplished                   6   \n",
       "2      High       Energized         Recharged                   7   \n",
       "3      High    Accomplished            Serene                   7   \n",
       "4    Medium        Flexible        Challenged                   7   \n",
       "\n",
       "   Mood After (1-10)  Energy Level (1-10)  Stress Level (1-10)  \n",
       "0                  3                    6                    9  \n",
       "1                  7                    4                    9  \n",
       "2                  8                    7                    6  \n",
       "3                  8                    8                    9  \n",
       "4                  8                    6                    2  "
      ]
     },
     "execution_count": 3,
     "metadata": {},
     "output_type": "execute_result"
    }
   ],
   "source": [
    "df.head()"
   ]
  },
  {
   "cell_type": "code",
   "execution_count": 4,
   "id": "c267cc3f-3c9d-4110-a4a9-d86e6924328b",
   "metadata": {},
   "outputs": [
    {
     "name": "stdout",
     "output_type": "stream",
     "text": [
      "Total Rows: 100000\n",
      " Total Columns: 16\n"
     ]
    }
   ],
   "source": [
    "print(f\"Total Rows: {df.shape[0]}\\n Total Columns: {df.shape[1]}\")"
   ]
  },
  {
   "cell_type": "markdown",
   "id": "76cd0f9e-8695-4c98-a9bb-198672967770",
   "metadata": {},
   "source": [
    "## **Step 4: Check Data Types and Summary**\n",
    "- #### **Understand the column data types, distributions, and missing values.**"
   ]
  },
  {
   "cell_type": "code",
   "execution_count": 5,
   "id": "796a9dda-cfad-4d94-99bb-070e5fa6731a",
   "metadata": {},
   "outputs": [
    {
     "name": "stdout",
     "output_type": "stream",
     "text": [
      "Date                   0\n",
      "Age                    0\n",
      "Gender                 0\n",
      "Employment Status      0\n",
      "Time of Day            0\n",
      "Activity Category      0\n",
      "Sub-Category           0\n",
      "Activity               0\n",
      "Duration (minutes)     0\n",
      "Intensity              0\n",
      "Primary Emotion        0\n",
      "Secondary Emotion      0\n",
      "Mood Before (1-10)     0\n",
      "Mood After (1-10)      0\n",
      "Energy Level (1-10)    0\n",
      "Stress Level (1-10)    0\n",
      "dtype: int64\n",
      "\n",
      "Total missing values: 0\n"
     ]
    }
   ],
   "source": [
    "# Check for null values across all columns\n",
    "print(df.isnull().sum())\n",
    "\n",
    "# Check total number of missing cells\n",
    "print(\"\\nTotal missing values:\", df.isnull().sum().sum())"
   ]
  },
  {
   "cell_type": "code",
   "execution_count": 6,
   "id": "e214a429-2831-4465-b0ac-de80d2ed8d65",
   "metadata": {},
   "outputs": [
    {
     "data": {
      "text/plain": [
       "Date                   object\n",
       "Age                     int64\n",
       "Gender                 object\n",
       "Employment Status      object\n",
       "Time of Day            object\n",
       "Activity Category      object\n",
       "Sub-Category           object\n",
       "Activity               object\n",
       "Duration (minutes)      int64\n",
       "Intensity              object\n",
       "Primary Emotion        object\n",
       "Secondary Emotion      object\n",
       "Mood Before (1-10)      int64\n",
       "Mood After (1-10)       int64\n",
       "Energy Level (1-10)     int64\n",
       "Stress Level (1-10)     int64\n",
       "dtype: object"
      ]
     },
     "execution_count": 6,
     "metadata": {},
     "output_type": "execute_result"
    }
   ],
   "source": [
    "df.dtypes"
   ]
  },
  {
   "cell_type": "markdown",
   "id": "66ea611c-b4af-491b-8623-68782eba30b0",
   "metadata": {},
   "source": [
    "## **Step 5: Mood Categorization**\t\n",
    "- #### **Since the mood was given as a number between 1 and 10, I decided to convert it into three categories to make the problem a multi-class classification:**\n",
    "\n",
    "- **Bad (1 to 3)**\n",
    "- **Neutral (4 to 6)**\n",
    "- **Good (7 to 10)**\n",
    "\n",
    "- #### **This made it easier to train the models and also more meaningful when interpreting the results.**\n"
   ]
  },
  {
   "cell_type": "code",
   "execution_count": 7,
   "id": "d1c91b0c-f40b-4e4c-9d66-9218c51b6190",
   "metadata": {},
   "outputs": [],
   "source": [
    "def categorize_mood(score):\n",
    "    if score <= 3:\n",
    "        return 'Bad'\n",
    "    elif 3 < score <= 6:\n",
    "        return 'Neutral'\n",
    "    else:\n",
    "        return 'Good'"
   ]
  },
  {
   "cell_type": "markdown",
   "id": "1c7577d6-2b14-47a9-8beb-0bd8e3a19213",
   "metadata": {},
   "source": [
    "## **Step 6: Check Mood Category Distribution**\t\n",
    "- #### **See how balanced or imbalanced the mood labels are.**"
   ]
  },
  {
   "cell_type": "code",
   "execution_count": 8,
   "id": "6e5f4a20-c7f2-47ce-8901-84afd0f0bda6",
   "metadata": {},
   "outputs": [
    {
     "name": "stdout",
     "output_type": "stream",
     "text": [
      "Mood Category\n",
      "Neutral    47649\n",
      "Good       37780\n",
      "Bad        14571\n",
      "Name: count, dtype: int64\n"
     ]
    }
   ],
   "source": [
    "df['Mood Category'] = df['Mood After (1-10)'].apply(categorize_mood)\n",
    "print(df['Mood Category'].value_counts())"
   ]
  },
  {
   "cell_type": "markdown",
   "id": "f8e45342-876f-4b47-a4b1-64f979db864b",
   "metadata": {},
   "source": [
    "## **Step 7: Drop Irrelevant Columns and Define Features & Target**\n",
    "- #### **Drop columns like Date, Mood After (used for label), and separate X and y.**"
   ]
  },
  {
   "cell_type": "code",
   "execution_count": 9,
   "id": "77549f6d-0a5f-4757-bf64-ae1b449f6c36",
   "metadata": {},
   "outputs": [],
   "source": [
    "df = df.drop(columns=['Date', 'Mood After (1-10)'])"
   ]
  },
  {
   "cell_type": "code",
   "execution_count": 10,
   "id": "db6f6574-4187-4912-b118-c0fc8c07f05a",
   "metadata": {},
   "outputs": [
    {
     "data": {
      "text/html": [
       "<div>\n",
       "<style scoped>\n",
       "    .dataframe tbody tr th:only-of-type {\n",
       "        vertical-align: middle;\n",
       "    }\n",
       "\n",
       "    .dataframe tbody tr th {\n",
       "        vertical-align: top;\n",
       "    }\n",
       "\n",
       "    .dataframe thead th {\n",
       "        text-align: right;\n",
       "    }\n",
       "</style>\n",
       "<table border=\"1\" class=\"dataframe\">\n",
       "  <thead>\n",
       "    <tr style=\"text-align: right;\">\n",
       "      <th></th>\n",
       "      <th>Age</th>\n",
       "      <th>Gender</th>\n",
       "      <th>Employment Status</th>\n",
       "      <th>Time of Day</th>\n",
       "      <th>Activity Category</th>\n",
       "      <th>Sub-Category</th>\n",
       "      <th>Activity</th>\n",
       "      <th>Duration (minutes)</th>\n",
       "      <th>Intensity</th>\n",
       "      <th>Primary Emotion</th>\n",
       "      <th>Secondary Emotion</th>\n",
       "      <th>Mood Before (1-10)</th>\n",
       "      <th>Energy Level (1-10)</th>\n",
       "      <th>Stress Level (1-10)</th>\n",
       "      <th>Mood Category</th>\n",
       "    </tr>\n",
       "  </thead>\n",
       "  <tbody>\n",
       "    <tr>\n",
       "      <th>0</th>\n",
       "      <td>34</td>\n",
       "      <td>Male</td>\n",
       "      <td>Retired</td>\n",
       "      <td>Afternoon</td>\n",
       "      <td>Physical - Exercise</td>\n",
       "      <td>Mind-Body</td>\n",
       "      <td>Stretching</td>\n",
       "      <td>79</td>\n",
       "      <td>High</td>\n",
       "      <td>Energized</td>\n",
       "      <td>Challenged</td>\n",
       "      <td>3</td>\n",
       "      <td>6</td>\n",
       "      <td>9</td>\n",
       "      <td>Bad</td>\n",
       "    </tr>\n",
       "    <tr>\n",
       "      <th>1</th>\n",
       "      <td>30</td>\n",
       "      <td>Prefer not to say</td>\n",
       "      <td>Retired</td>\n",
       "      <td>Night</td>\n",
       "      <td>Physical - Sports</td>\n",
       "      <td>Extreme Sports</td>\n",
       "      <td>Bungee Jumping</td>\n",
       "      <td>72</td>\n",
       "      <td>High</td>\n",
       "      <td>Accomplished</td>\n",
       "      <td>Accomplished</td>\n",
       "      <td>6</td>\n",
       "      <td>4</td>\n",
       "      <td>9</td>\n",
       "      <td>Good</td>\n",
       "    </tr>\n",
       "    <tr>\n",
       "      <th>2</th>\n",
       "      <td>75</td>\n",
       "      <td>Female</td>\n",
       "      <td>Employed</td>\n",
       "      <td>Night</td>\n",
       "      <td>Relaxation</td>\n",
       "      <td>Entertainment</td>\n",
       "      <td>Music Listening</td>\n",
       "      <td>117</td>\n",
       "      <td>High</td>\n",
       "      <td>Energized</td>\n",
       "      <td>Recharged</td>\n",
       "      <td>7</td>\n",
       "      <td>7</td>\n",
       "      <td>6</td>\n",
       "      <td>Good</td>\n",
       "    </tr>\n",
       "    <tr>\n",
       "      <th>3</th>\n",
       "      <td>28</td>\n",
       "      <td>Prefer not to say</td>\n",
       "      <td>Retired</td>\n",
       "      <td>Night</td>\n",
       "      <td>Relaxation</td>\n",
       "      <td>Leisure</td>\n",
       "      <td>Baking</td>\n",
       "      <td>78</td>\n",
       "      <td>High</td>\n",
       "      <td>Accomplished</td>\n",
       "      <td>Serene</td>\n",
       "      <td>7</td>\n",
       "      <td>8</td>\n",
       "      <td>9</td>\n",
       "      <td>Good</td>\n",
       "    </tr>\n",
       "    <tr>\n",
       "      <th>4</th>\n",
       "      <td>75</td>\n",
       "      <td>Female</td>\n",
       "      <td>Student</td>\n",
       "      <td>Afternoon</td>\n",
       "      <td>Physical - Sports</td>\n",
       "      <td>Team Sports</td>\n",
       "      <td>Basketball</td>\n",
       "      <td>55</td>\n",
       "      <td>Medium</td>\n",
       "      <td>Flexible</td>\n",
       "      <td>Challenged</td>\n",
       "      <td>7</td>\n",
       "      <td>6</td>\n",
       "      <td>2</td>\n",
       "      <td>Good</td>\n",
       "    </tr>\n",
       "  </tbody>\n",
       "</table>\n",
       "</div>"
      ],
      "text/plain": [
       "   Age             Gender Employment Status Time of Day    Activity Category  \\\n",
       "0   34               Male           Retired   Afternoon  Physical - Exercise   \n",
       "1   30  Prefer not to say           Retired       Night    Physical - Sports   \n",
       "2   75             Female          Employed       Night           Relaxation   \n",
       "3   28  Prefer not to say           Retired       Night           Relaxation   \n",
       "4   75             Female           Student   Afternoon    Physical - Sports   \n",
       "\n",
       "     Sub-Category         Activity  Duration (minutes) Intensity  \\\n",
       "0       Mind-Body       Stretching                  79      High   \n",
       "1  Extreme Sports   Bungee Jumping                  72      High   \n",
       "2   Entertainment  Music Listening                 117      High   \n",
       "3         Leisure           Baking                  78      High   \n",
       "4     Team Sports       Basketball                  55    Medium   \n",
       "\n",
       "  Primary Emotion Secondary Emotion  Mood Before (1-10)  Energy Level (1-10)  \\\n",
       "0       Energized        Challenged                   3                    6   \n",
       "1    Accomplished      Accomplished                   6                    4   \n",
       "2       Energized         Recharged                   7                    7   \n",
       "3    Accomplished            Serene                   7                    8   \n",
       "4        Flexible        Challenged                   7                    6   \n",
       "\n",
       "   Stress Level (1-10) Mood Category  \n",
       "0                    9           Bad  \n",
       "1                    9          Good  \n",
       "2                    6          Good  \n",
       "3                    9          Good  \n",
       "4                    2          Good  "
      ]
     },
     "execution_count": 10,
     "metadata": {},
     "output_type": "execute_result"
    }
   ],
   "source": [
    "df.head()"
   ]
  },
  {
   "cell_type": "code",
   "execution_count": 11,
   "id": "bbae7967-06a1-4741-b009-41e3681283ee",
   "metadata": {},
   "outputs": [
    {
     "name": "stdout",
     "output_type": "stream",
     "text": [
      "Total Rows: 100000\n",
      " Total Columns: 15\n"
     ]
    }
   ],
   "source": [
    "print(f\"Total Rows: {df.shape[0]}\\n Total Columns: {df.shape[1]}\")"
   ]
  },
  {
   "cell_type": "markdown",
   "id": "554fa65e-5ed8-472b-a492-2fc2a2a18b8a",
   "metadata": {},
   "source": [
    "## **Step 8: Separate Features and Target Variable**\t\n",
    " #### **In this step, we separate the dataset into:**\n",
    "- #### **X: all input features used for prediction.**\n",
    "-  #### **y: Target variable set as \"Mood Category\"**"
   ]
  },
  {
   "cell_type": "code",
   "execution_count": 12,
   "id": "ba3afcfd-6f12-434c-b713-7b7bdfbf5872",
   "metadata": {},
   "outputs": [],
   "source": [
    "X = df.drop(columns=['Mood Category'])\n",
    "y = df['Mood Category']"
   ]
  },
  {
   "cell_type": "markdown",
   "id": "d04d13e6-4f28-4aef-b8fa-2c09410738b0",
   "metadata": {},
   "source": [
    "## **Step 9: Train-Test Split**\n",
    "- #### **Split data into training and testing sets for modeling.**"
   ]
  },
  {
   "cell_type": "code",
   "execution_count": 13,
   "id": "8ca64bd1-45e0-4346-a643-cef09fde627a",
   "metadata": {},
   "outputs": [],
   "source": [
    "X_train, X_test, y_train, y_test = train_test_split(X, y, random_state=42, test_size=0.2, stratify=y)"
   ]
  },
  {
   "cell_type": "code",
   "execution_count": 14,
   "id": "c4c8a9fa-e2ee-4758-a405-c02fe1bdfa65",
   "metadata": {},
   "outputs": [
    {
     "name": "stdout",
     "output_type": "stream",
     "text": [
      "X Train Shape: (80000, 14)\n",
      "X Test Shape: (20000, 14)\n"
     ]
    }
   ],
   "source": [
    "print('X Train Shape:', X_train.shape)\n",
    "print('X Test Shape:', X_test.shape)"
   ]
  },
  {
   "cell_type": "markdown",
   "id": "c7b37c8d-923f-4756-970a-69be6ee44fcf",
   "metadata": {},
   "source": [
    "## **Step 10: Convert Categorical Features using One-Hot Encoding**\n",
    "- #### **Convert object-type columns to numeric using dummy variables.**"
   ]
  },
  {
   "cell_type": "code",
   "execution_count": 15,
   "id": "776a6ba9-a389-4fd1-a15d-fde8e4e1ea3d",
   "metadata": {},
   "outputs": [],
   "source": [
    "X_train = pd.get_dummies(X_train)\n",
    "X_test = pd.get_dummies(X_test)\n",
    "X_train, X_test = X_train.align(X_test, join='left', axis=1, fill_value=0)"
   ]
  },
  {
   "cell_type": "code",
   "execution_count": 16,
   "id": "4bb5e27c-74f9-4866-b876-115a870131cd",
   "metadata": {},
   "outputs": [
    {
     "name": "stdout",
     "output_type": "stream",
     "text": [
      "Total Rows: 80000\n",
      " Total Columns: 317\n"
     ]
    }
   ],
   "source": [
    "print(f\"Total Rows: {X_train.shape[0]}\\n Total Columns: {X_train.shape[1]}\")"
   ]
  },
  {
   "cell_type": "markdown",
   "id": "167a9e60-f14e-4315-a721-b60898c57305",
   "metadata": {},
   "source": [
    "## **Step 11: Handle Class Imbalance using SMOTE**\n",
    "- #### **When I checked the class distribution, I found that the classes were imbalanced — most entries were labeled as “Neutral”. To solve this, I used SMOTE (Synthetic Minority Oversampling Technique) to balance the training data.**"
   ]
  },
  {
   "cell_type": "code",
   "execution_count": 17,
   "id": "f6a21cbd-d291-44d0-aa22-9f76a9fe8f1b",
   "metadata": {},
   "outputs": [],
   "source": [
    "smote = SMOTE(random_state=42)\n",
    "X_train_resampled, y_train_resampled = smote.fit_resample(X_train, y_train)"
   ]
  },
  {
   "cell_type": "code",
   "execution_count": 18,
   "id": "2893768d-cb83-48e2-8e72-2655b6d59c60",
   "metadata": {},
   "outputs": [
    {
     "name": "stdout",
     "output_type": "stream",
     "text": [
      "Total Rows: 114357\n",
      " Total Columns: 317\n"
     ]
    }
   ],
   "source": [
    "print(f\"Total Rows: {X_train_resampled.shape[0]}\\n Total Columns: {X_train_resampled.shape[1]}\")"
   ]
  },
  {
   "cell_type": "markdown",
   "id": "ac810365-252d-41ec-92f9-2d10ed13652c",
   "metadata": {},
   "source": [
    "- #### **Visualizing class distribution before SMOTE**"
   ]
  },
  {
   "cell_type": "code",
   "execution_count": 19,
   "id": "f5489b08-cb96-41d8-91d7-e192409addea",
   "metadata": {},
   "outputs": [
    {
     "data": {
      "image/png": "[encoded data removed]",
      "text/plain": [
       "<Figure size 500x300 with 1 Axes>"
      ]
     },
     "metadata": {},
     "output_type": "display_data"
    }
   ],
   "source": [
    "# Visualizing class distribution before SMOTE\n",
    "plt.figure(figsize=(5,3))\n",
    "sns.countplot(x=y_train, order=y_train.value_counts().index,  palette=['yellow', 'green', 'Red'])\n",
    "plt.title(\"Class Distribution BEFORE SMOTE\")\n",
    "plt.xlabel(\"Mood Category\")\n",
    "plt.ylabel(\"Count\")\n",
    "plt.show()"
   ]
  },
  {
   "cell_type": "markdown",
   "id": "6f616dc7-2fbc-4cd9-8848-1396fea8cc7f",
   "metadata": {},
   "source": [
    "- #### **After applying SMOTE, I visualized the class distribution again to confirm that the categories were now balanced.**"
   ]
  },
  {
   "cell_type": "code",
   "execution_count": 20,
   "id": "17b0fdf2-b2fb-4516-9af0-f36b8f353f3f",
   "metadata": {},
   "outputs": [
    {
     "data": {
      "image/png": "[encoded data removed]",
      "text/plain": [
       "<Figure size 500x300 with 1 Axes>"
      ]
     },
     "metadata": {},
     "output_type": "display_data"
    }
   ],
   "source": [
    "# Visualizing class distribution after SMOTE\n",
    "plt.figure(figsize=(5,3))\n",
    "sns.countplot(x=y_train_resampled, order=y_train_resampled.value_counts().index,  palette=['yellow', 'green', 'Red'])\n",
    "plt.title(\"Class Distribution AFTER SMOTE\")\n",
    "plt.xlabel(\"Mood Category\")\n",
    "plt.ylabel(\"Count\")\n",
    "plt.show()"
   ]
  },
  {
   "cell_type": "markdown",
   "id": "6f777db0-6fc3-4811-9981-9a9b927809f2",
   "metadata": {},
   "source": [
    "## **Step 12: Scale the Numerical Features using StandardScaler**\n",
    "- #### **Normalize the features for better model performance.**"
   ]
  },
  {
   "cell_type": "code",
   "execution_count": 21,
   "id": "11579343-1c4a-4f0b-a04b-5ec44b522c6d",
   "metadata": {},
   "outputs": [],
   "source": [
    "scaler = StandardScaler()\n",
    "num_cols = ['Age', 'Duration (minutes)', 'Mood Before (1-10)', 'Energy Level (1-10)', 'Stress Level (1-10)']\n",
    "X_train_resampled[num_cols] = scaler.fit_transform(X_train_resampled[num_cols])\n",
    "X_test[num_cols] = scaler.transform(X_test[num_cols])"
   ]
  },
  {
   "cell_type": "markdown",
   "id": "c2ee889e-7492-4b05-9111-3457a646609e",
   "metadata": {},
   "source": [
    "- #### **Use label Encoder**"
   ]
  },
  {
   "cell_type": "code",
   "execution_count": 22,
   "id": "36d23053-31f0-4546-96a5-7e2dd88f23ea",
   "metadata": {},
   "outputs": [],
   "source": [
    "le = LabelEncoder()\n",
    "y_train_enc = to_categorical(le.fit_transform(y_train_resampled))\n",
    "y_test_enc = to_categorical(le.transform(y_test))"
   ]
  },
  {
   "cell_type": "markdown",
   "id": "72ee9110-cc81-419f-b855-e842b3a74c56",
   "metadata": {},
   "source": [
    "## **Step 13: Train Random Forest Model with GridSearchCV**\n",
    "- #### **I started with a Random Forest model because it's easy to implement, performs well on structured data, and provides feature importance.I tuned the parameters using GridSearchCV and evaluated it using accuracy, F1-score, and a confusion matrix.**"
   ]
  },
  {
   "cell_type": "code",
   "execution_count": 23,
   "id": "bf36ef54-704d-4b3b-b1e0-dab68960b01b",
   "metadata": {},
   "outputs": [],
   "source": [
    "# Define a smaller grid to avoid memory issues\n",
    "param_grid = {\n",
    "    'n_estimators': [100, 150],\n",
    "    'max_depth': [10, None],\n",
    "    'min_samples_split': [2],\n",
    "    'min_samples_leaf': [1]\n",
    "}\n",
    "\n",
    "# GridSearch with 3-fold Cross-Validation\n",
    "rf = RandomForestClassifier(random_state=42)\n",
    "grid_search = GridSearchCV(estimator=rf, param_grid=param_grid,\n",
    "                           cv=3, n_jobs=-1, verbose=1, scoring='accuracy')"
   ]
  },
  {
   "cell_type": "code",
   "execution_count": 24,
   "id": "2544f701-a776-4be2-918f-4955a082f241",
   "metadata": {},
   "outputs": [
    {
     "name": "stdout",
     "output_type": "stream",
     "text": [
      "Fitting 3 folds for each of 4 candidates, totalling 12 fits\n"
     ]
    }
   ],
   "source": [
    "grid_search.fit(X_train_resampled, y_train_resampled)\n",
    "\n",
    "# Best model from GridSearch\n",
    "best_rf = grid_search.best_estimator_"
   ]
  },
  {
   "cell_type": "markdown",
   "id": "31dacd97-05ca-49ec-ab14-366a333b85fb",
   "metadata": {},
   "source": [
    "## **Step 14: Evaluate Random Forest Performance**\t\n",
    "- #### **Print classification report and visualize results.**"
   ]
  },
  {
   "cell_type": "code",
   "execution_count": 25,
   "id": "2edbd78e-103f-4909-b17f-355041096d37",
   "metadata": {},
   "outputs": [
    {
     "name": "stdout",
     "output_type": "stream",
     "text": [
      "Random Forest Classification Report:\n",
      "               precision    recall  f1-score   support\n",
      "\n",
      "         Bad       0.58      0.40      0.47      2914\n",
      "        Good       0.79      0.83      0.81      7556\n",
      "     Neutral       0.70      0.74      0.72      9530\n",
      "\n",
      "    accuracy                           0.72     20000\n",
      "   macro avg       0.69      0.66      0.67     20000\n",
      "weighted avg       0.72      0.72      0.72     20000\n",
      "\n",
      "Best Parameters: {'max_depth': None, 'min_samples_leaf': 1, 'min_samples_split': 2, 'n_estimators': 150}\n",
      "Accuracy:  0.724\n"
     ]
    }
   ],
   "source": [
    "# Predict & Evaluate on Test Set\n",
    "y_pred_rf = best_rf.predict(X_test)\n",
    "rf_acc = accuracy_score(y_test, y_pred_rf)\n",
    "print(\"Random Forest Classification Report:\\n\", classification_report(y_test, y_pred_rf))\n",
    "print(\"Best Parameters:\", grid_search.best_params_)\n",
    "print(\"Accuracy: \", rf_acc)"
   ]
  },
  {
   "cell_type": "markdown",
   "id": "687706a6-f71f-42ec-a87e-1be71c6244bc",
   "metadata": {},
   "source": [
    "- #### **Plot Confusion Matrix:**"
   ]
  },
  {
   "cell_type": "code",
   "execution_count": 26,
   "id": "9306f9e9-cb02-4c3c-ade7-18b6f6aed3ab",
   "metadata": {},
   "outputs": [
    {
     "data": {
      "image/png": "[encoded data removed]",
      "text/plain": [
       "<Figure size 640x480 with 2 Axes>"
      ]
     },
     "metadata": {},
     "output_type": "display_data"
    }
   ],
   "source": [
    "cm = confusion_matrix(y_test, y_pred_rf)\n",
    "sns.heatmap(cm, annot=True, fmt='d', cmap='Blues', xticklabels=best_rf.classes_, yticklabels=best_rf.classes_)\n",
    "plt.title(\"Confusion Matrix - Random Forest\")\n",
    "plt.xlabel(\"Predicted\")\n",
    "plt.ylabel(\"Actual\")\n",
    "plt.show()"
   ]
  },
  {
   "cell_type": "markdown",
   "id": "37a825de-5118-47d1-8e10-935ee1b7423d",
   "metadata": {},
   "source": [
    "## **Step 15: Feature Importance from Random Forest**\t\n",
    "- #### **Display top features affecting mood prediction.**"
   ]
  },
  {
   "cell_type": "code",
   "execution_count": 27,
   "id": "311c1387-3802-4318-aacf-e974e966f3a3",
   "metadata": {},
   "outputs": [
    {
     "data": {
      "image/png": "[encoded data removed]",
      "text/plain": [
       "<Figure size 700x400 with 1 Axes>"
      ]
     },
     "metadata": {},
     "output_type": "display_data"
    }
   ],
   "source": [
    "importances = best_rf.feature_importances_\n",
    "features = X_test.columns\n",
    "feat_imp = pd.Series(importances, index=features).sort_values(ascending=False)[:10]\n",
    "\n",
    "feat_imp.plot(kind='barh', figsize=(7,4), title=\"Top 10 Feature Importances\")\n",
    "plt.gca().invert_yaxis()\n",
    "plt.show()"
   ]
  },
  {
   "cell_type": "markdown",
   "id": "68bafe2a-4751-47ac-b4d4-89e27458d1e2",
   "metadata": {},
   "source": [
    "## **Step16: XGBoost Model**\n",
    "\n",
    "- #### **After Random Forest, I used XGBoost. It's known for giving high accuracy and usually performs better than traditional models on tabular data.**\n",
    "\n",
    "- #### **It was slightly more accurate than Random Forest and gave better results for predicting the “Bad” mood category after balancing the classes.**"
   ]
  },
  {
   "cell_type": "code",
   "execution_count": 28,
   "id": "16c64edf-631e-452f-a233-38666432f53c",
   "metadata": {},
   "outputs": [
    {
     "data": {
      "text/html": [
       "<style>#sk-container-id-1 {\n",
       "  /* Definition of color scheme common for light and dark mode */\n",
       "  --sklearn-color-text: #000;\n",
       "  --sklearn-color-text-muted: #666;\n",
       "  --sklearn-color-line: gray;\n",
       "  /* Definition of color scheme for unfitted estimators */\n",
       "  --sklearn-color-unfitted-level-0: #fff5e6;\n",
       "  --sklearn-color-unfitted-level-1: #f6e4d2;\n",
       "  --sklearn-color-unfitted-level-2: #ffe0b3;\n",
       "  --sklearn-color-unfitted-level-3: chocolate;\n",
       "  /* Definition of color scheme for fitted estimators */\n",
       "  --sklearn-color-fitted-level-0: #f0f8ff;\n",
       "  --sklearn-color-fitted-level-1: #d4ebff;\n",
       "  --sklearn-color-fitted-level-2: #b3dbfd;\n",
       "  --sklearn-color-fitted-level-3: cornflowerblue;\n",
       "\n",
       "  /* Specific color for light theme */\n",
       "  --sklearn-color-text-on-default-background: var(--sg-text-color, var(--theme-code-foreground, var(--jp-content-font-color1, black)));\n",
       "  --sklearn-color-background: var(--sg-background-color, var(--theme-background, var(--jp-layout-color0, white)));\n",
       "  --sklearn-color-border-box: var(--sg-text-color, var(--theme-code-foreground, var(--jp-content-font-color1, black)));\n",
       "  --sklearn-color-icon: #696969;\n",
       "\n",
       "  @media (prefers-color-scheme: dark) {\n",
       "    /* Redefinition of color scheme for dark theme */\n",
       "    --sklearn-color-text-on-default-background: var(--sg-text-color, var(--theme-code-foreground, var(--jp-content-font-color1, white)));\n",
       "    --sklearn-color-background: var(--sg-background-color, var(--theme-background, var(--jp-layout-color0, #111)));\n",
       "    --sklearn-color-border-box: var(--sg-text-color, var(--theme-code-foreground, var(--jp-content-font-color1, white)));\n",
       "    --sklearn-color-icon: #878787;\n",
       "  }\n",
       "}\n",
       "\n",
       "#sk-container-id-1 {\n",
       "  color: var(--sklearn-color-text);\n",
       "}\n",
       "\n",
       "#sk-container-id-1 pre {\n",
       "  padding: 0;\n",
       "}\n",
       "\n",
       "#sk-container-id-1 input.sk-hidden--visually {\n",
       "  border: 0;\n",
       "  clip: rect(1px 1px 1px 1px);\n",
       "  clip: rect(1px, 1px, 1px, 1px);\n",
       "  height: 1px;\n",
       "  margin: -1px;\n",
       "  overflow: hidden;\n",
       "  padding: 0;\n",
       "  position: absolute;\n",
       "  width: 1px;\n",
       "}\n",
       "\n",
       "#sk-container-id-1 div.sk-dashed-wrapped {\n",
       "  border: 1px dashed var(--sklearn-color-line);\n",
       "  margin: 0 0.4em 0.5em 0.4em;\n",
       "  box-sizing: border-box;\n",
       "  padding-bottom: 0.4em;\n",
       "  background-color: var(--sklearn-color-background);\n",
       "}\n",
       "\n",
       "#sk-container-id-1 div.sk-container {\n",
       "  /* jupyter's `normalize.less` sets `[hidden] { display: none; }`\n",
       "     but bootstrap.min.css set `[hidden] { display: none !important; }`\n",
       "     so we also need the `!important` here to be able to override the\n",
       "     default hidden behavior on the sphinx rendered scikit-learn.org.\n",
       "     See: https://github.com/scikit-learn/scikit-learn/issues/21755 */\n",
       "  display: inline-block !important;\n",
       "  position: relative;\n",
       "}\n",
       "\n",
       "#sk-container-id-1 div.sk-text-repr-fallback {\n",
       "  display: none;\n",
       "}\n",
       "\n",
       "div.sk-parallel-item,\n",
       "div.sk-serial,\n",
       "div.sk-item {\n",
       "  /* draw centered vertical line to link estimators */\n",
       "  background-image: linear-gradient(var(--sklearn-color-text-on-default-background), var(--sklearn-color-text-on-default-background));\n",
       "  background-size: 2px 100%;\n",
       "  background-repeat: no-repeat;\n",
       "  background-position: center center;\n",
       "}\n",
       "\n",
       "/* Parallel-specific style estimator block */\n",
       "\n",
       "#sk-container-id-1 div.sk-parallel-item::after {\n",
       "  content: \"\";\n",
       "  width: 100%;\n",
       "  border-bottom: 2px solid var(--sklearn-color-text-on-default-background);\n",
       "  flex-grow: 1;\n",
       "}\n",
       "\n",
       "#sk-container-id-1 div.sk-parallel {\n",
       "  display: flex;\n",
       "  align-items: stretch;\n",
       "  justify-content: center;\n",
       "  background-color: var(--sklearn-color-background);\n",
       "  position: relative;\n",
       "}\n",
       "\n",
       "#sk-container-id-1 div.sk-parallel-item {\n",
       "  display: flex;\n",
       "  flex-direction: column;\n",
       "}\n",
       "\n",
       "#sk-container-id-1 div.sk-parallel-item:first-child::after {\n",
       "  align-self: flex-end;\n",
       "  width: 50%;\n",
       "}\n",
       "\n",
       "#sk-container-id-1 div.sk-parallel-item:last-child::after {\n",
       "  align-self: flex-start;\n",
       "  width: 50%;\n",
       "}\n",
       "\n",
       "#sk-container-id-1 div.sk-parallel-item:only-child::after {\n",
       "  width: 0;\n",
       "}\n",
       "\n",
       "/* Serial-specific style estimator block */\n",
       "\n",
       "#sk-container-id-1 div.sk-serial {\n",
       "  display: flex;\n",
       "  flex-direction: column;\n",
       "  align-items: center;\n",
       "  background-color: var(--sklearn-color-background);\n",
       "  padding-right: 1em;\n",
       "  padding-left: 1em;\n",
       "}\n",
       "\n",
       "\n",
       "/* Toggleable style: style used for estimator/Pipeline/ColumnTransformer box that is\n",
       "clickable and can be expanded/collapsed.\n",
       "- Pipeline and ColumnTransformer use this feature and define the default style\n",
       "- Estimators will overwrite some part of the style using the `sk-estimator` class\n",
       "*/\n",
       "\n",
       "/* Pipeline and ColumnTransformer style (default) */\n",
       "\n",
       "#sk-container-id-1 div.sk-toggleable {\n",
       "  /* Default theme specific background. It is overwritten whether we have a\n",
       "  specific estimator or a Pipeline/ColumnTransformer */\n",
       "  background-color: var(--sklearn-color-background);\n",
       "}\n",
       "\n",
       "/* Toggleable label */\n",
       "#sk-container-id-1 label.sk-toggleable__label {\n",
       "  cursor: pointer;\n",
       "  display: flex;\n",
       "  width: 100%;\n",
       "  margin-bottom: 0;\n",
       "  padding: 0.5em;\n",
       "  box-sizing: border-box;\n",
       "  text-align: center;\n",
       "  align-items: start;\n",
       "  justify-content: space-between;\n",
       "  gap: 0.5em;\n",
       "}\n",
       "\n",
       "#sk-container-id-1 label.sk-toggleable__label .caption {\n",
       "  font-size: 0.6rem;\n",
       "  font-weight: lighter;\n",
       "  color: var(--sklearn-color-text-muted);\n",
       "}\n",
       "\n",
       "#sk-container-id-1 label.sk-toggleable__label-arrow:before {\n",
       "  /* Arrow on the left of the label */\n",
       "  content: \"▸\";\n",
       "  float: left;\n",
       "  margin-right: 0.25em;\n",
       "  color: var(--sklearn-color-icon);\n",
       "}\n",
       "\n",
       "#sk-container-id-1 label.sk-toggleable__label-arrow:hover:before {\n",
       "  color: var(--sklearn-color-text);\n",
       "}\n",
       "\n",
       "/* Toggleable content - dropdown */\n",
       "\n",
       "#sk-container-id-1 div.sk-toggleable__content {\n",
       "  max-height: 0;\n",
       "  max-width: 0;\n",
       "  overflow: hidden;\n",
       "  text-align: left;\n",
       "  /* unfitted */\n",
       "  background-color: var(--sklearn-color-unfitted-level-0);\n",
       "}\n",
       "\n",
       "#sk-container-id-1 div.sk-toggleable__content.fitted {\n",
       "  /* fitted */\n",
       "  background-color: var(--sklearn-color-fitted-level-0);\n",
       "}\n",
       "\n",
       "#sk-container-id-1 div.sk-toggleable__content pre {\n",
       "  margin: 0.2em;\n",
       "  border-radius: 0.25em;\n",
       "  color: var(--sklearn-color-text);\n",
       "  /* unfitted */\n",
       "  background-color: var(--sklearn-color-unfitted-level-0);\n",
       "}\n",
       "\n",
       "#sk-container-id-1 div.sk-toggleable__content.fitted pre {\n",
       "  /* unfitted */\n",
       "  background-color: var(--sklearn-color-fitted-level-0);\n",
       "}\n",
       "\n",
       "#sk-container-id-1 input.sk-toggleable__control:checked~div.sk-toggleable__content {\n",
       "  /* Expand drop-down */\n",
       "  max-height: 200px;\n",
       "  max-width: 100%;\n",
       "  overflow: auto;\n",
       "}\n",
       "\n",
       "#sk-container-id-1 input.sk-toggleable__control:checked~label.sk-toggleable__label-arrow:before {\n",
       "  content: \"▾\";\n",
       "}\n",
       "\n",
       "/* Pipeline/ColumnTransformer-specific style */\n",
       "\n",
       "#sk-container-id-1 div.sk-label input.sk-toggleable__control:checked~label.sk-toggleable__label {\n",
       "  color: var(--sklearn-color-text);\n",
       "  background-color: var(--sklearn-color-unfitted-level-2);\n",
       "}\n",
       "\n",
       "#sk-container-id-1 div.sk-label.fitted input.sk-toggleable__control:checked~label.sk-toggleable__label {\n",
       "  background-color: var(--sklearn-color-fitted-level-2);\n",
       "}\n",
       "\n",
       "/* Estimator-specific style */\n",
       "\n",
       "/* Colorize estimator box */\n",
       "#sk-container-id-1 div.sk-estimator input.sk-toggleable__control:checked~label.sk-toggleable__label {\n",
       "  /* unfitted */\n",
       "  background-color: var(--sklearn-color-unfitted-level-2);\n",
       "}\n",
       "\n",
       "#sk-container-id-1 div.sk-estimator.fitted input.sk-toggleable__control:checked~label.sk-toggleable__label {\n",
       "  /* fitted */\n",
       "  background-color: var(--sklearn-color-fitted-level-2);\n",
       "}\n",
       "\n",
       "#sk-container-id-1 div.sk-label label.sk-toggleable__label,\n",
       "#sk-container-id-1 div.sk-label label {\n",
       "  /* The background is the default theme color */\n",
       "  color: var(--sklearn-color-text-on-default-background);\n",
       "}\n",
       "\n",
       "/* On hover, darken the color of the background */\n",
       "#sk-container-id-1 div.sk-label:hover label.sk-toggleable__label {\n",
       "  color: var(--sklearn-color-text);\n",
       "  background-color: var(--sklearn-color-unfitted-level-2);\n",
       "}\n",
       "\n",
       "/* Label box, darken color on hover, fitted */\n",
       "#sk-container-id-1 div.sk-label.fitted:hover label.sk-toggleable__label.fitted {\n",
       "  color: var(--sklearn-color-text);\n",
       "  background-color: var(--sklearn-color-fitted-level-2);\n",
       "}\n",
       "\n",
       "/* Estimator label */\n",
       "\n",
       "#sk-container-id-1 div.sk-label label {\n",
       "  font-family: monospace;\n",
       "  font-weight: bold;\n",
       "  display: inline-block;\n",
       "  line-height: 1.2em;\n",
       "}\n",
       "\n",
       "#sk-container-id-1 div.sk-label-container {\n",
       "  text-align: center;\n",
       "}\n",
       "\n",
       "/* Estimator-specific */\n",
       "#sk-container-id-1 div.sk-estimator {\n",
       "  font-family: monospace;\n",
       "  border: 1px dotted var(--sklearn-color-border-box);\n",
       "  border-radius: 0.25em;\n",
       "  box-sizing: border-box;\n",
       "  margin-bottom: 0.5em;\n",
       "  /* unfitted */\n",
       "  background-color: var(--sklearn-color-unfitted-level-0);\n",
       "}\n",
       "\n",
       "#sk-container-id-1 div.sk-estimator.fitted {\n",
       "  /* fitted */\n",
       "  background-color: var(--sklearn-color-fitted-level-0);\n",
       "}\n",
       "\n",
       "/* on hover */\n",
       "#sk-container-id-1 div.sk-estimator:hover {\n",
       "  /* unfitted */\n",
       "  background-color: var(--sklearn-color-unfitted-level-2);\n",
       "}\n",
       "\n",
       "#sk-container-id-1 div.sk-estimator.fitted:hover {\n",
       "  /* fitted */\n",
       "  background-color: var(--sklearn-color-fitted-level-2);\n",
       "}\n",
       "\n",
       "/* Specification for estimator info (e.g. \"i\" and \"?\") */\n",
       "\n",
       "/* Common style for \"i\" and \"?\" */\n",
       "\n",
       ".sk-estimator-doc-link,\n",
       "a:link.sk-estimator-doc-link,\n",
       "a:visited.sk-estimator-doc-link {\n",
       "  float: right;\n",
       "  font-size: smaller;\n",
       "  line-height: 1em;\n",
       "  font-family: monospace;\n",
       "  background-color: var(--sklearn-color-background);\n",
       "  border-radius: 1em;\n",
       "  height: 1em;\n",
       "  width: 1em;\n",
       "  text-decoration: none !important;\n",
       "  margin-left: 0.5em;\n",
       "  text-align: center;\n",
       "  /* unfitted */\n",
       "  border: var(--sklearn-color-unfitted-level-1) 1pt solid;\n",
       "  color: var(--sklearn-color-unfitted-level-1);\n",
       "}\n",
       "\n",
       ".sk-estimator-doc-link.fitted,\n",
       "a:link.sk-estimator-doc-link.fitted,\n",
       "a:visited.sk-estimator-doc-link.fitted {\n",
       "  /* fitted */\n",
       "  border: var(--sklearn-color-fitted-level-1) 1pt solid;\n",
       "  color: var(--sklearn-color-fitted-level-1);\n",
       "}\n",
       "\n",
       "/* On hover */\n",
       "div.sk-estimator:hover .sk-estimator-doc-link:hover,\n",
       ".sk-estimator-doc-link:hover,\n",
       "div.sk-label-container:hover .sk-estimator-doc-link:hover,\n",
       ".sk-estimator-doc-link:hover {\n",
       "  /* unfitted */\n",
       "  background-color: var(--sklearn-color-unfitted-level-3);\n",
       "  color: var(--sklearn-color-background);\n",
       "  text-decoration: none;\n",
       "}\n",
       "\n",
       "div.sk-estimator.fitted:hover .sk-estimator-doc-link.fitted:hover,\n",
       ".sk-estimator-doc-link.fitted:hover,\n",
       "div.sk-label-container:hover .sk-estimator-doc-link.fitted:hover,\n",
       ".sk-estimator-doc-link.fitted:hover {\n",
       "  /* fitted */\n",
       "  background-color: var(--sklearn-color-fitted-level-3);\n",
       "  color: var(--sklearn-color-background);\n",
       "  text-decoration: none;\n",
       "}\n",
       "\n",
       "/* Span, style for the box shown on hovering the info icon */\n",
       ".sk-estimator-doc-link span {\n",
       "  display: none;\n",
       "  z-index: 9999;\n",
       "  position: relative;\n",
       "  font-weight: normal;\n",
       "  right: .2ex;\n",
       "  padding: .5ex;\n",
       "  margin: .5ex;\n",
       "  width: min-content;\n",
       "  min-width: 20ex;\n",
       "  max-width: 50ex;\n",
       "  color: var(--sklearn-color-text);\n",
       "  box-shadow: 2pt 2pt 4pt #999;\n",
       "  /* unfitted */\n",
       "  background: var(--sklearn-color-unfitted-level-0);\n",
       "  border: .5pt solid var(--sklearn-color-unfitted-level-3);\n",
       "}\n",
       "\n",
       ".sk-estimator-doc-link.fitted span {\n",
       "  /* fitted */\n",
       "  background: var(--sklearn-color-fitted-level-0);\n",
       "  border: var(--sklearn-color-fitted-level-3);\n",
       "}\n",
       "\n",
       ".sk-estimator-doc-link:hover span {\n",
       "  display: block;\n",
       "}\n",
       "\n",
       "/* \"?\"-specific style due to the `<a>` HTML tag */\n",
       "\n",
       "#sk-container-id-1 a.estimator_doc_link {\n",
       "  float: right;\n",
       "  font-size: 1rem;\n",
       "  line-height: 1em;\n",
       "  font-family: monospace;\n",
       "  background-color: var(--sklearn-color-background);\n",
       "  border-radius: 1rem;\n",
       "  height: 1rem;\n",
       "  width: 1rem;\n",
       "  text-decoration: none;\n",
       "  /* unfitted */\n",
       "  color: var(--sklearn-color-unfitted-level-1);\n",
       "  border: var(--sklearn-color-unfitted-level-1) 1pt solid;\n",
       "}\n",
       "\n",
       "#sk-container-id-1 a.estimator_doc_link.fitted {\n",
       "  /* fitted */\n",
       "  border: var(--sklearn-color-fitted-level-1) 1pt solid;\n",
       "  color: var(--sklearn-color-fitted-level-1);\n",
       "}\n",
       "\n",
       "/* On hover */\n",
       "#sk-container-id-1 a.estimator_doc_link:hover {\n",
       "  /* unfitted */\n",
       "  background-color: var(--sklearn-color-unfitted-level-3);\n",
       "  color: var(--sklearn-color-background);\n",
       "  text-decoration: none;\n",
       "}\n",
       "\n",
       "#sk-container-id-1 a.estimator_doc_link.fitted:hover {\n",
       "  /* fitted */\n",
       "  background-color: var(--sklearn-color-fitted-level-3);\n",
       "}\n",
       "</style><div id=\"sk-container-id-1\" class=\"sk-top-container\"><div class=\"sk-text-repr-fallback\"><pre>XGBClassifier(base_score=None, booster=None, callbacks=None,\n",
       "              colsample_bylevel=None, colsample_bynode=None,\n",
       "              colsample_bytree=None, device=None, early_stopping_rounds=None,\n",
       "              enable_categorical=False, eval_metric=&#x27;mlogloss&#x27;,\n",
       "              feature_types=None, feature_weights=None, gamma=None,\n",
       "              grow_policy=None, importance_type=None,\n",
       "              interaction_constraints=None, learning_rate=None, max_bin=None,\n",
       "              max_cat_threshold=None, max_cat_to_onehot=None,\n",
       "              max_delta_step=None, max_depth=None, max_leaves=None,\n",
       "              min_child_weight=None, missing=nan, monotone_constraints=None,\n",
       "              multi_strategy=None, n_estimators=None, n_jobs=None,\n",
       "              num_parallel_tree=None, ...)</pre><b>In a Jupyter environment, please rerun this cell to show the HTML representation or trust the notebook. <br />On GitHub, the HTML representation is unable to render, please try loading this page with nbviewer.org.</b></div><div class=\"sk-container\" hidden><div class=\"sk-item\"><div class=\"sk-estimator fitted sk-toggleable\"><input class=\"sk-toggleable__control sk-hidden--visually\" id=\"sk-estimator-id-1\" type=\"checkbox\" checked><label for=\"sk-estimator-id-1\" class=\"sk-toggleable__label fitted sk-toggleable__label-arrow\"><div><div>XGBClassifier</div></div><div><a class=\"sk-estimator-doc-link fitted\" rel=\"noreferrer\" target=\"_blank\" href=\"https://xgboost.readthedocs.io/en/release_3.0.0/python/python_api.html#xgboost.XGBClassifier\">?<span>Documentation for XGBClassifier</span></a><span class=\"sk-estimator-doc-link fitted\">i<span>Fitted</span></span></div></label><div class=\"sk-toggleable__content fitted\"><pre>XGBClassifier(base_score=None, booster=None, callbacks=None,\n",
       "              colsample_bylevel=None, colsample_bynode=None,\n",
       "              colsample_bytree=None, device=None, early_stopping_rounds=None,\n",
       "              enable_categorical=False, eval_metric=&#x27;mlogloss&#x27;,\n",
       "              feature_types=None, feature_weights=None, gamma=None,\n",
       "              grow_policy=None, importance_type=None,\n",
       "              interaction_constraints=None, learning_rate=None, max_bin=None,\n",
       "              max_cat_threshold=None, max_cat_to_onehot=None,\n",
       "              max_delta_step=None, max_depth=None, max_leaves=None,\n",
       "              min_child_weight=None, missing=nan, monotone_constraints=None,\n",
       "              multi_strategy=None, n_estimators=None, n_jobs=None,\n",
       "              num_parallel_tree=None, ...)</pre></div> </div></div></div></div>"
      ],
      "text/plain": [
       "XGBClassifier(base_score=None, booster=None, callbacks=None,\n",
       "              colsample_bylevel=None, colsample_bynode=None,\n",
       "              colsample_bytree=None, device=None, early_stopping_rounds=None,\n",
       "              enable_categorical=False, eval_metric='mlogloss',\n",
       "              feature_types=None, feature_weights=None, gamma=None,\n",
       "              grow_policy=None, importance_type=None,\n",
       "              interaction_constraints=None, learning_rate=None, max_bin=None,\n",
       "              max_cat_threshold=None, max_cat_to_onehot=None,\n",
       "              max_delta_step=None, max_depth=None, max_leaves=None,\n",
       "              min_child_weight=None, missing=nan, monotone_constraints=None,\n",
       "              multi_strategy=None, n_estimators=None, n_jobs=None,\n",
       "              num_parallel_tree=None, ...)"
      ]
     },
     "execution_count": 28,
     "metadata": {},
     "output_type": "execute_result"
    }
   ],
   "source": [
    "# Define and fit the XGBoost model\n",
    "xgb = XGBClassifier(use_label_encoder=False, eval_metric='mlogloss', random_state=42)\n",
    "# Encode target labels into integers\n",
    "le_xgb = LabelEncoder()\n",
    "y_train_resampled_enc = le_xgb.fit_transform(y_train_resampled)\n",
    "y_test_enc = le_xgb.transform(y_test)\n",
    "xgb.fit(X_train_resampled, y_train_resampled_enc)"
   ]
  },
  {
   "cell_type": "markdown",
   "id": "48f0a7c6-7c79-4073-b435-4c39cfd05847",
   "metadata": {},
   "source": [
    "## **Step 17: Evaluate XGBoost Performance**\n",
    "- #### **View metrics like accuracy, precision, recall, f1-score.**"
   ]
  },
  {
   "cell_type": "code",
   "execution_count": 29,
   "id": "64203734-44c4-4693-87eb-86733f31e73d",
   "metadata": {},
   "outputs": [
    {
     "name": "stdout",
     "output_type": "stream",
     "text": [
      " XGBoost Classification Report:\n",
      "               precision    recall  f1-score   support\n",
      "\n",
      "           0       0.61      0.55      0.57      2914\n",
      "           1       0.81      0.82      0.81      7556\n",
      "           2       0.72      0.74      0.73      9530\n",
      "\n",
      "    accuracy                           0.74     20000\n",
      "   macro avg       0.71      0.70      0.71     20000\n",
      "weighted avg       0.74      0.74      0.74     20000\n",
      "\n"
     ]
    }
   ],
   "source": [
    "# Predict on test data\n",
    "y_pred_xgb = xgb.predict(X_test)\n",
    "\n",
    "# Evaluate\n",
    "print(\" XGBoost Classification Report:\\n\", classification_report(y_test_enc, y_pred_xgb))\n",
    "xgb_acc = accuracy_score(y_test_enc, y_pred_xgb)"
   ]
  },
  {
   "cell_type": "markdown",
   "id": "7760262e-b781-46a9-927f-14d5e0f7a4e7",
   "metadata": {},
   "source": [
    "- #### **Plot Confusion Matrix:**"
   ]
  },
  {
   "cell_type": "code",
   "execution_count": 30,
   "id": "5e17e0e4-c7f6-4212-9651-0227dd4a7c55",
   "metadata": {},
   "outputs": [
    {
     "data": {
      "text/plain": [
       "<Figure size 600x500 with 0 Axes>"
      ]
     },
     "metadata": {},
     "output_type": "display_data"
    },
    {
     "data": {
      "image/png": "[encoded data removed]",
      "text/plain": [
       "<Figure size 640x480 with 2 Axes>"
      ]
     },
     "metadata": {},
     "output_type": "display_data"
    }
   ],
   "source": [
    "# Generate confusion matrix\n",
    "cm_xgb = confusion_matrix(y_test_enc, y_pred_xgb)\n",
    "\n",
    "# Plot\n",
    "disp = ConfusionMatrixDisplay(confusion_matrix=cm_xgb, display_labels=le_xgb.classes_)\n",
    "plt.figure(figsize=(6, 5))\n",
    "disp.plot(cmap='Blues', values_format='d')\n",
    "plt.title(\"Confusion Matrix - XGBoost\")\n",
    "plt.show()"
   ]
  },
  {
   "cell_type": "markdown",
   "id": "d00f3e71-8133-4fad-9719-fb709c15cfe5",
   "metadata": {},
   "source": [
    "## **Step 18:  Interpreting XGBoost using SHAP**\n",
    "\n",
    "- #### **To understand what features influenced the predictions, I used SHAP (SHapley Additive Explanations).**\n",
    "\n",
    "- #### **It helped me see that features like Activity Duration, Mood Before, Intensity, and Time of Day had the most impact on mood predictions. This part really helped me explain the model’s behavior instead of just showing numbers.**\n"
   ]
  },
  {
   "cell_type": "code",
   "execution_count": 31,
   "id": "77dabaaa-41a7-4624-9861-74a1721aea49",
   "metadata": {},
   "outputs": [
    {
     "data": {
      "image/png": "[encoded data removed]",
      "text/plain": [
       "<Figure size 800x550 with 1 Axes>"
      ]
     },
     "metadata": {},
     "output_type": "display_data"
    }
   ],
   "source": [
    "# Use same sample preprocessing as before\n",
    "sample_data = X_test.sample(n=10000, random_state=42).astype('float64')\n",
    "\n",
    "explainer = shap.TreeExplainer(xgb)\n",
    "shap_values = explainer.shap_values(sample_data)\n",
    "shap.summary_plot(shap_values, sample_data, plot_type=\"bar\", max_display=10)"
   ]
  },
  {
   "cell_type": "code",
   "execution_count": 56,
   "id": "f2784d1a-c27d-403f-9bec-172405aaf172",
   "metadata": {},
   "outputs": [],
   "source": [
    "# Clear backend session to avoid overlapping graphs\n",
    "K.clear_session()"
   ]
  },
  {
   "cell_type": "markdown",
   "id": "59394637-b676-4078-8372-0e0f4f75eec0",
   "metadata": {},
   "source": [
    "## **Step 19: Use EarlyStopping and ReduceLROnPlateau Callbacks**\n",
    "- #### **Prevent overfitting and auto-adjust learning rate.**"
   ]
  },
  {
   "cell_type": "code",
   "execution_count": 57,
   "id": "3e76b9a7-0e68-44bb-8c3a-1dd6a1248dd6",
   "metadata": {},
   "outputs": [],
   "source": [
    "# Define callbacks\n",
    "early_stop = EarlyStopping(monitor='val_loss', patience=5, restore_best_weights=True)\n",
    "reduce_lr = ReduceLROnPlateau(monitor='val_loss', factor=0.5, patience=3)"
   ]
  },
  {
   "cell_type": "markdown",
   "id": "90218e7e-4cc5-4b79-be1a-d210a9c0e553",
   "metadata": {},
   "source": [
    "## **Step 20: Deep Learning Model (DNN)**\n",
    "\n",
    "- #### **Finally, I trained a Deep Neural Network using TensorFlow. I used Batch Normalization, Dropout layers, EarlyStopping, and ReduceLROnPlateau to improve performance and avoid overfitting.**\n",
    "\n",
    "- #### **The neural network performed slightly better than Random Forest and was equal to XGBoost in accuracy. I converted the labels into one-hot format for compatibility with softmax output.**\n"
   ]
  },
  {
   "cell_type": "code",
   "execution_count": 58,
   "id": "32274120-ffb0-4f93-bc41-2f2f1b722f9f",
   "metadata": {},
   "outputs": [],
   "source": [
    "# Build DNN model\n",
    "dnn = Sequential([\n",
    "    Dense(256, input_shape=(X_train_resampled.shape[1],), activation='relu'),\n",
    "    BatchNormalization(),\n",
    "    Dropout(0.3),\n",
    "    \n",
    "    Dense(128, activation='relu'),\n",
    "    BatchNormalization(),\n",
    "    Dropout(0.3),\n",
    "    \n",
    "    Dense(64, activation='relu'),\n",
    "    BatchNormalization(),\n",
    "    Dropout(0.3),\n",
    "    \n",
    "    Dense(32, activation='relu'),\n",
    "    \n",
    "    Dense(3, activation='softmax')  # 3 output classes\n",
    "])"
   ]
  },
  {
   "cell_type": "code",
   "execution_count": 59,
   "id": "23a9b9a9-6490-431e-8be9-f92d6fcb13a6",
   "metadata": {},
   "outputs": [
    {
     "data": {
      "text/html": [
       "<pre style=\"white-space:pre;overflow-x:auto;line-height:normal;font-family:Menlo,'DejaVu Sans Mono',consolas,'Courier New',monospace\"><span style=\"font-weight: bold\">Model: \"sequential\"</span>\n",
       "</pre>\n"
      ],
      "text/plain": [
       "\u001b[1mModel: \"sequential\"\u001b[0m\n"
      ]
     },
     "metadata": {},
     "output_type": "display_data"
    },
    {
     "data": {
      "text/html": [
       "<pre style=\"white-space:pre;overflow-x:auto;line-height:normal;font-family:Menlo,'DejaVu Sans Mono',consolas,'Courier New',monospace\">┏━━━━━━━━━━━━━━━━━━━━━━━━━━━━━━━━━┳━━━━━━━━━━━━━━━━━━━━━━━━┳━━━━━━━━━━━━━━━┓\n",
       "┃<span style=\"font-weight: bold\"> Layer (type)                    </span>┃<span style=\"font-weight: bold\"> Output Shape           </span>┃<span style=\"font-weight: bold\">       Param # </span>┃\n",
       "┡━━━━━━━━━━━━━━━━━━━━━━━━━━━━━━━━━╇━━━━━━━━━━━━━━━━━━━━━━━━╇━━━━━━━━━━━━━━━┩\n",
       "│ dense (<span style=\"color: #0087ff; text-decoration-color: #0087ff\">Dense</span>)                   │ (<span style=\"color: #00d7ff; text-decoration-color: #00d7ff\">None</span>, <span style=\"color: #00af00; text-decoration-color: #00af00\">256</span>)            │        <span style=\"color: #00af00; text-decoration-color: #00af00\">81,408</span> │\n",
       "├─────────────────────────────────┼────────────────────────┼───────────────┤\n",
       "│ batch_normalization             │ (<span style=\"color: #00d7ff; text-decoration-color: #00d7ff\">None</span>, <span style=\"color: #00af00; text-decoration-color: #00af00\">256</span>)            │         <span style=\"color: #00af00; text-decoration-color: #00af00\">1,024</span> │\n",
       "│ (<span style=\"color: #0087ff; text-decoration-color: #0087ff\">BatchNormalization</span>)            │                        │               │\n",
       "├─────────────────────────────────┼────────────────────────┼───────────────┤\n",
       "│ dropout (<span style=\"color: #0087ff; text-decoration-color: #0087ff\">Dropout</span>)               │ (<span style=\"color: #00d7ff; text-decoration-color: #00d7ff\">None</span>, <span style=\"color: #00af00; text-decoration-color: #00af00\">256</span>)            │             <span style=\"color: #00af00; text-decoration-color: #00af00\">0</span> │\n",
       "├─────────────────────────────────┼────────────────────────┼───────────────┤\n",
       "│ dense_1 (<span style=\"color: #0087ff; text-decoration-color: #0087ff\">Dense</span>)                 │ (<span style=\"color: #00d7ff; text-decoration-color: #00d7ff\">None</span>, <span style=\"color: #00af00; text-decoration-color: #00af00\">128</span>)            │        <span style=\"color: #00af00; text-decoration-color: #00af00\">32,896</span> │\n",
       "├─────────────────────────────────┼────────────────────────┼───────────────┤\n",
       "│ batch_normalization_1           │ (<span style=\"color: #00d7ff; text-decoration-color: #00d7ff\">None</span>, <span style=\"color: #00af00; text-decoration-color: #00af00\">128</span>)            │           <span style=\"color: #00af00; text-decoration-color: #00af00\">512</span> │\n",
       "│ (<span style=\"color: #0087ff; text-decoration-color: #0087ff\">BatchNormalization</span>)            │                        │               │\n",
       "├─────────────────────────────────┼────────────────────────┼───────────────┤\n",
       "│ dropout_1 (<span style=\"color: #0087ff; text-decoration-color: #0087ff\">Dropout</span>)             │ (<span style=\"color: #00d7ff; text-decoration-color: #00d7ff\">None</span>, <span style=\"color: #00af00; text-decoration-color: #00af00\">128</span>)            │             <span style=\"color: #00af00; text-decoration-color: #00af00\">0</span> │\n",
       "├─────────────────────────────────┼────────────────────────┼───────────────┤\n",
       "│ dense_2 (<span style=\"color: #0087ff; text-decoration-color: #0087ff\">Dense</span>)                 │ (<span style=\"color: #00d7ff; text-decoration-color: #00d7ff\">None</span>, <span style=\"color: #00af00; text-decoration-color: #00af00\">64</span>)             │         <span style=\"color: #00af00; text-decoration-color: #00af00\">8,256</span> │\n",
       "├─────────────────────────────────┼────────────────────────┼───────────────┤\n",
       "│ batch_normalization_2           │ (<span style=\"color: #00d7ff; text-decoration-color: #00d7ff\">None</span>, <span style=\"color: #00af00; text-decoration-color: #00af00\">64</span>)             │           <span style=\"color: #00af00; text-decoration-color: #00af00\">256</span> │\n",
       "│ (<span style=\"color: #0087ff; text-decoration-color: #0087ff\">BatchNormalization</span>)            │                        │               │\n",
       "├─────────────────────────────────┼────────────────────────┼───────────────┤\n",
       "│ dropout_2 (<span style=\"color: #0087ff; text-decoration-color: #0087ff\">Dropout</span>)             │ (<span style=\"color: #00d7ff; text-decoration-color: #00d7ff\">None</span>, <span style=\"color: #00af00; text-decoration-color: #00af00\">64</span>)             │             <span style=\"color: #00af00; text-decoration-color: #00af00\">0</span> │\n",
       "├─────────────────────────────────┼────────────────────────┼───────────────┤\n",
       "│ dense_3 (<span style=\"color: #0087ff; text-decoration-color: #0087ff\">Dense</span>)                 │ (<span style=\"color: #00d7ff; text-decoration-color: #00d7ff\">None</span>, <span style=\"color: #00af00; text-decoration-color: #00af00\">32</span>)             │         <span style=\"color: #00af00; text-decoration-color: #00af00\">2,080</span> │\n",
       "├─────────────────────────────────┼────────────────────────┼───────────────┤\n",
       "│ dense_4 (<span style=\"color: #0087ff; text-decoration-color: #0087ff\">Dense</span>)                 │ (<span style=\"color: #00d7ff; text-decoration-color: #00d7ff\">None</span>, <span style=\"color: #00af00; text-decoration-color: #00af00\">3</span>)              │            <span style=\"color: #00af00; text-decoration-color: #00af00\">99</span> │\n",
       "└─────────────────────────────────┴────────────────────────┴───────────────┘\n",
       "</pre>\n"
      ],
      "text/plain": [
       "┏━━━━━━━━━━━━━━━━━━━━━━━━━━━━━━━━━┳━━━━━━━━━━━━━━━━━━━━━━━━┳━━━━━━━━━━━━━━━┓\n",
       "┃\u001b[1m \u001b[0m\u001b[1mLayer (type)                   \u001b[0m\u001b[1m \u001b[0m┃\u001b[1m \u001b[0m\u001b[1mOutput Shape          \u001b[0m\u001b[1m \u001b[0m┃\u001b[1m \u001b[0m\u001b[1m      Param #\u001b[0m\u001b[1m \u001b[0m┃\n",
       "┡━━━━━━━━━━━━━━━━━━━━━━━━━━━━━━━━━╇━━━━━━━━━━━━━━━━━━━━━━━━╇━━━━━━━━━━━━━━━┩\n",
       "│ dense (\u001b[38;5;33mDense\u001b[0m)                   │ (\u001b[38;5;45mNone\u001b[0m, \u001b[38;5;34m256\u001b[0m)            │        \u001b[38;5;34m81,408\u001b[0m │\n",
       "├─────────────────────────────────┼────────────────────────┼───────────────┤\n",
       "│ batch_normalization             │ (\u001b[38;5;45mNone\u001b[0m, \u001b[38;5;34m256\u001b[0m)            │         \u001b[38;5;34m1,024\u001b[0m │\n",
       "│ (\u001b[38;5;33mBatchNormalization\u001b[0m)            │                        │               │\n",
       "├─────────────────────────────────┼────────────────────────┼───────────────┤\n",
       "│ dropout (\u001b[38;5;33mDropout\u001b[0m)               │ (\u001b[38;5;45mNone\u001b[0m, \u001b[38;5;34m256\u001b[0m)            │             \u001b[38;5;34m0\u001b[0m │\n",
       "├─────────────────────────────────┼────────────────────────┼───────────────┤\n",
       "│ dense_1 (\u001b[38;5;33mDense\u001b[0m)                 │ (\u001b[38;5;45mNone\u001b[0m, \u001b[38;5;34m128\u001b[0m)            │        \u001b[38;5;34m32,896\u001b[0m │\n",
       "├─────────────────────────────────┼────────────────────────┼───────────────┤\n",
       "│ batch_normalization_1           │ (\u001b[38;5;45mNone\u001b[0m, \u001b[38;5;34m128\u001b[0m)            │           \u001b[38;5;34m512\u001b[0m │\n",
       "│ (\u001b[38;5;33mBatchNormalization\u001b[0m)            │                        │               │\n",
       "├─────────────────────────────────┼────────────────────────┼───────────────┤\n",
       "│ dropout_1 (\u001b[38;5;33mDropout\u001b[0m)             │ (\u001b[38;5;45mNone\u001b[0m, \u001b[38;5;34m128\u001b[0m)            │             \u001b[38;5;34m0\u001b[0m │\n",
       "├─────────────────────────────────┼────────────────────────┼───────────────┤\n",
       "│ dense_2 (\u001b[38;5;33mDense\u001b[0m)                 │ (\u001b[38;5;45mNone\u001b[0m, \u001b[38;5;34m64\u001b[0m)             │         \u001b[38;5;34m8,256\u001b[0m │\n",
       "├─────────────────────────────────┼────────────────────────┼───────────────┤\n",
       "│ batch_normalization_2           │ (\u001b[38;5;45mNone\u001b[0m, \u001b[38;5;34m64\u001b[0m)             │           \u001b[38;5;34m256\u001b[0m │\n",
       "│ (\u001b[38;5;33mBatchNormalization\u001b[0m)            │                        │               │\n",
       "├─────────────────────────────────┼────────────────────────┼───────────────┤\n",
       "│ dropout_2 (\u001b[38;5;33mDropout\u001b[0m)             │ (\u001b[38;5;45mNone\u001b[0m, \u001b[38;5;34m64\u001b[0m)             │             \u001b[38;5;34m0\u001b[0m │\n",
       "├─────────────────────────────────┼────────────────────────┼───────────────┤\n",
       "│ dense_3 (\u001b[38;5;33mDense\u001b[0m)                 │ (\u001b[38;5;45mNone\u001b[0m, \u001b[38;5;34m32\u001b[0m)             │         \u001b[38;5;34m2,080\u001b[0m │\n",
       "├─────────────────────────────────┼────────────────────────┼───────────────┤\n",
       "│ dense_4 (\u001b[38;5;33mDense\u001b[0m)                 │ (\u001b[38;5;45mNone\u001b[0m, \u001b[38;5;34m3\u001b[0m)              │            \u001b[38;5;34m99\u001b[0m │\n",
       "└─────────────────────────────────┴────────────────────────┴───────────────┘\n"
      ]
     },
     "metadata": {},
     "output_type": "display_data"
    },
    {
     "data": {
      "text/html": [
       "<pre style=\"white-space:pre;overflow-x:auto;line-height:normal;font-family:Menlo,'DejaVu Sans Mono',consolas,'Courier New',monospace\"><span style=\"font-weight: bold\"> Total params: </span><span style=\"color: #00af00; text-decoration-color: #00af00\">126,531</span> (494.26 KB)\n",
       "</pre>\n"
      ],
      "text/plain": [
       "\u001b[1m Total params: \u001b[0m\u001b[38;5;34m126,531\u001b[0m (494.26 KB)\n"
      ]
     },
     "metadata": {},
     "output_type": "display_data"
    },
    {
     "data": {
      "text/html": [
       "<pre style=\"white-space:pre;overflow-x:auto;line-height:normal;font-family:Menlo,'DejaVu Sans Mono',consolas,'Courier New',monospace\"><span style=\"font-weight: bold\"> Trainable params: </span><span style=\"color: #00af00; text-decoration-color: #00af00\">125,635</span> (490.76 KB)\n",
       "</pre>\n"
      ],
      "text/plain": [
       "\u001b[1m Trainable params: \u001b[0m\u001b[38;5;34m125,635\u001b[0m (490.76 KB)\n"
      ]
     },
     "metadata": {},
     "output_type": "display_data"
    },
    {
     "data": {
      "text/html": [
       "<pre style=\"white-space:pre;overflow-x:auto;line-height:normal;font-family:Menlo,'DejaVu Sans Mono',consolas,'Courier New',monospace\"><span style=\"font-weight: bold\"> Non-trainable params: </span><span style=\"color: #00af00; text-decoration-color: #00af00\">896</span> (3.50 KB)\n",
       "</pre>\n"
      ],
      "text/plain": [
       "\u001b[1m Non-trainable params: \u001b[0m\u001b[38;5;34m896\u001b[0m (3.50 KB)\n"
      ]
     },
     "metadata": {},
     "output_type": "display_data"
    }
   ],
   "source": [
    "dnn.summary()"
   ]
  },
  {
   "cell_type": "code",
   "execution_count": 60,
   "id": "778d2590-ae4f-4e34-bb82-ee8d4ca2931b",
   "metadata": {},
   "outputs": [],
   "source": [
    "# Compile model\n",
    "dnn.compile(optimizer='adam', loss='categorical_crossentropy', metrics=['accuracy'])"
   ]
  },
  {
   "cell_type": "markdown",
   "id": "623318fe-c845-479c-88c8-2b07676aac6f",
   "metadata": {},
   "source": [
    "## **Step 21: Train the Deep Neural Network**\n",
    "- #### **Fit the DNN model on SMOTE data with proper callbacks.**"
   ]
  },
  {
   "cell_type": "code",
   "execution_count": 61,
   "id": "3aff6f2b-8b84-4371-b9a6-5f6568a8ac4c",
   "metadata": {},
   "outputs": [
    {
     "name": "stdout",
     "output_type": "stream",
     "text": [
      "Epoch 1/100\n"
     ]
    },
    {
     "name": "stderr",
     "output_type": "stream",
     "text": [
      "2025-07-24 17:50:30.745975: W external/local_xla/xla/tsl/framework/cpu_allocator_impl.cc:83] Allocation of 116002980 exceeds 10% of free system memory.\n"
     ]
    },
    {
     "name": "stdout",
     "output_type": "stream",
     "text": [
      "\u001b[1m1430/1430\u001b[0m \u001b[32m━━━━━━━━━━━━━━━━━━━━\u001b[0m\u001b[37m\u001b[0m \u001b[1m12s\u001b[0m 6ms/step - accuracy: 0.7045 - loss: 0.6062 - val_accuracy: 0.9136 - val_loss: 0.2204 - learning_rate: 0.0010\n",
      "Epoch 2/100\n",
      "\u001b[1m1430/1430\u001b[0m \u001b[32m━━━━━━━━━━━━━━━━━━━━\u001b[0m\u001b[37m\u001b[0m \u001b[1m17s\u001b[0m 12ms/step - accuracy: 0.7601 - loss: 0.4671 - val_accuracy: 0.9365 - val_loss: 0.2485 - learning_rate: 0.0010\n",
      "Epoch 3/100\n",
      "\u001b[1m1430/1430\u001b[0m \u001b[32m━━━━━━━━━━━━━━━━━━━━\u001b[0m\u001b[37m\u001b[0m \u001b[1m11s\u001b[0m 8ms/step - accuracy: 0.7649 - loss: 0.4509 - val_accuracy: 0.9459 - val_loss: 0.2004 - learning_rate: 0.0010\n",
      "Epoch 4/100\n",
      "\u001b[1m1430/1430\u001b[0m \u001b[32m━━━━━━━━━━━━━━━━━━━━\u001b[0m\u001b[37m\u001b[0m \u001b[1m15s\u001b[0m 11ms/step - accuracy: 0.7690 - loss: 0.4413 - val_accuracy: 0.9605 - val_loss: 0.1567 - learning_rate: 0.0010\n",
      "Epoch 5/100\n",
      "\u001b[1m1430/1430\u001b[0m \u001b[32m━━━━━━━━━━━━━━━━━━━━\u001b[0m\u001b[37m\u001b[0m \u001b[1m17s\u001b[0m 12ms/step - accuracy: 0.7720 - loss: 0.4332 - val_accuracy: 0.9639 - val_loss: 0.1528 - learning_rate: 0.0010\n",
      "Epoch 6/100\n",
      "\u001b[1m1430/1430\u001b[0m \u001b[32m━━━━━━━━━━━━━━━━━━━━\u001b[0m\u001b[37m\u001b[0m \u001b[1m19s\u001b[0m 13ms/step - accuracy: 0.7732 - loss: 0.4337 - val_accuracy: 0.9491 - val_loss: 0.1864 - learning_rate: 0.0010\n",
      "Epoch 7/100\n",
      "\u001b[1m1430/1430\u001b[0m \u001b[32m━━━━━━━━━━━━━━━━━━━━\u001b[0m\u001b[37m\u001b[0m \u001b[1m17s\u001b[0m 12ms/step - accuracy: 0.7726 - loss: 0.4294 - val_accuracy: 0.8839 - val_loss: 0.3117 - learning_rate: 0.0010\n",
      "Epoch 8/100\n",
      "\u001b[1m1430/1430\u001b[0m \u001b[32m━━━━━━━━━━━━━━━━━━━━\u001b[0m\u001b[37m\u001b[0m \u001b[1m10s\u001b[0m 7ms/step - accuracy: 0.7749 - loss: 0.4281 - val_accuracy: 0.9244 - val_loss: 0.3084 - learning_rate: 0.0010\n",
      "Epoch 9/100\n",
      "\u001b[1m1430/1430\u001b[0m \u001b[32m━━━━━━━━━━━━━━━━━━━━\u001b[0m\u001b[37m\u001b[0m \u001b[1m10s\u001b[0m 7ms/step - accuracy: 0.7777 - loss: 0.4213 - val_accuracy: 0.9261 - val_loss: 0.3329 - learning_rate: 5.0000e-04\n",
      "Epoch 10/100\n",
      "\u001b[1m1430/1430\u001b[0m \u001b[32m━━━━━━━━━━━━━━━━━━━━\u001b[0m\u001b[37m\u001b[0m \u001b[1m11s\u001b[0m 8ms/step - accuracy: 0.7781 - loss: 0.4175 - val_accuracy: 0.9298 - val_loss: 0.2308 - learning_rate: 5.0000e-04\n"
     ]
    }
   ],
   "source": [
    "# Train model with early stopping and LR scheduler\n",
    "history = dnn.fit(\n",
    "    X_train_resampled, y_train_enc,\n",
    "    validation_split=0.2,\n",
    "    epochs=100,\n",
    "    batch_size=64,\n",
    "    callbacks=[early_stop, reduce_lr],\n",
    "    verbose=1\n",
    ")"
   ]
  },
  {
   "cell_type": "code",
   "execution_count": 62,
   "id": "e0cdd7e4-d84c-44d6-8083-f9a8e40c3eee",
   "metadata": {},
   "outputs": [
    {
     "name": "stdout",
     "output_type": "stream",
     "text": [
      "\u001b[1m625/625\u001b[0m \u001b[32m━━━━━━━━━━━━━━━━━━━━\u001b[0m\u001b[37m\u001b[0m \u001b[1m1s\u001b[0m 2ms/step\n"
     ]
    }
   ],
   "source": [
    "# Predict\n",
    "y_pred_dnn_prob = dnn.predict(X_test)\n",
    "y_pred_dnn_enc = y_pred_dnn_prob.argmax(axis=1)\n",
    "y_pred_dnn = le.inverse_transform(y_pred_dnn_enc)"
   ]
  },
  {
   "cell_type": "markdown",
   "id": "c938d004-2d78-4790-8c69-1ea158768caa",
   "metadata": {},
   "source": [
    "## **Step 22: Evaluate DNN Performance**\t\n",
    "- #### **Print and analyze accuracy, recall, and f1-score.**"
   ]
  },
  {
   "cell_type": "code",
   "execution_count": 63,
   "id": "316c3b8d-bc14-4f9c-b6e9-25add310fce8",
   "metadata": {},
   "outputs": [
    {
     "name": "stdout",
     "output_type": "stream",
     "text": [
      "DNN Classification Report:\n",
      "               precision    recall  f1-score   support\n",
      "\n",
      "         Bad       0.60      0.61      0.60      2914\n",
      "        Good       0.84      0.78      0.81      7556\n",
      "     Neutral       0.72      0.75      0.74      9530\n",
      "\n",
      "    accuracy                           0.74     20000\n",
      "   macro avg       0.72      0.72      0.72     20000\n",
      "weighted avg       0.75      0.74      0.74     20000\n",
      "\n"
     ]
    }
   ],
   "source": [
    "# Evaluate\n",
    "from sklearn.metrics import classification_report, accuracy_score\n",
    "print(\"DNN Classification Report:\\n\", classification_report(y_test, y_pred_dnn))\n",
    "dnn_acc = accuracy_score(y_test, y_pred_dnn)"
   ]
  },
  {
   "cell_type": "markdown",
   "id": "ea6d84b1-6001-417a-8601-9fefc18a8b7b",
   "metadata": {},
   "source": [
    "- #### **Plot Confusion Matrix:**"
   ]
  },
  {
   "cell_type": "code",
   "execution_count": 64,
   "id": "ab165d95-ce1f-4012-b682-8f22d8157b4b",
   "metadata": {},
   "outputs": [
    {
     "data": {
      "image/png": "[encoded data removed]",
      "text/plain": [
       "<Figure size 640x480 with 2 Axes>"
      ]
     },
     "metadata": {},
     "output_type": "display_data"
    }
   ],
   "source": [
    "dnn_cm = confusion_matrix(le.transform(y_test), y_pred_dnn_enc)\n",
    "disp = ConfusionMatrixDisplay(confusion_matrix=dnn_cm, display_labels=le.classes_)\n",
    "disp.plot(cmap=\"Purples\")\n",
    "plt.title(\"Confusion Matrix - DNN\")\n",
    "plt.show()"
   ]
  },
  {
   "cell_type": "code",
   "execution_count": 65,
   "id": "f9186422-10f1-4983-9956-658545664c64",
   "metadata": {},
   "outputs": [
    {
     "data": {
      "image/png": "[encoded data removed]",
      "text/plain": [
       "<Figure size 1200x500 with 2 Axes>"
      ]
     },
     "metadata": {},
     "output_type": "display_data"
    }
   ],
   "source": [
    "fig, axis = plt.subplots(1, 2, figsize=(12, 5))\n",
    "\n",
    "axis[0].plot(history.history['loss'], label = 'Training Loss')\n",
    "axis[0].plot(history.history['val_loss'], label = 'Validation Loss')\n",
    "\n",
    "axis[1].plot(history.history['accuracy'], label = 'Accuracy')\n",
    "axis[1].plot(history.history['val_accuracy'], label = 'Validation Accuracy')\n",
    "\n",
    "axis[0].set_title(\"Loss over Epochs\")\n",
    "axis[0].set_xlabel('Number of Epochs')\n",
    "axis[0].set_ylabel('Loss')\n",
    "\n",
    "axis[1].set_title(\"Accuracy over Epochs\")\n",
    "axis[1].set_xlabel('Number of Epochs')\n",
    "axis[1].set_ylabel('Accuracy')\n",
    "\n",
    "axis[0].set_yticks(np.arange(0, max(max(history.history['loss']), max(history.history['val_loss'])) + 2, 2))\n",
    "axis[1].set_yticks(np.arange(0, max(max(history.history['accuracy']), max(history.history['val_accuracy'])) + 0.3, 0.3))\n",
    "\n",
    "axis[0].legend()\n",
    "axis[1].legend()\n",
    "\n",
    "plt.tight_layout()\n",
    "plt.show()"
   ]
  },
  {
   "cell_type": "markdown",
   "id": "1a805cdc-df8b-4a4d-a30a-b3b1788c46f2",
   "metadata": {},
   "source": [
    "## **Step 23:  Comparing All Models**\n",
    "\n",
    "- #### **After training all three models, I compared their test accuracies:**\n",
    "\n",
    "- #### **Random Forest: ~72%**\n",
    "- #### **XGBoost: ~74%**\n",
    "- #### **DNN: ~74%**\n",
    "\n",
    "- #### **XGBoost and DNN performed better than Random Forest, especially in predicting the Bad and Good mood classes.**\n"
   ]
  },
  {
   "cell_type": "code",
   "execution_count": 66,
   "id": "5b812725-f683-4cd1-bfbf-5e08a3b2bb7e",
   "metadata": {},
   "outputs": [
    {
     "data": {
      "image/png": "[encoded data removed]",
      "text/plain": [
       "<Figure size 700x400 with 1 Axes>"
      ]
     },
     "metadata": {},
     "output_type": "display_data"
    }
   ],
   "source": [
    "# Final comparison of all models\n",
    "model_names = ['Random Forest', 'XGBoost', 'Deep Neural Network']\n",
    "accuracy_scores = [rf_acc, xgb_acc, dnn_acc]\n",
    "\n",
    "plt.figure(figsize=(7,4))\n",
    "sns.barplot(x=model_names, y=accuracy_scores, palette='coolwarm')\n",
    "plt.title(\"Model Accuracy Comparison\")\n",
    "plt.ylabel(\"Accuracy Score\")\n",
    "plt.ylim(min(accuracy_scores) - 0.02, max(accuracy_scores) + 0.02)\n",
    "plt.grid(axis='y', linestyle='--', alpha=0.6)\n",
    "plt.show()"
   ]
  },
  {
   "cell_type": "markdown",
   "id": "56a1ce78-fb30-4e85-b303-68389cbec793",
   "metadata": {},
   "source": [
    "## **Final Summary and Takeaways**\n",
    "\n",
    "#### **This project helped me understand how emotional patterns can be analyzed using machine learning.**\n",
    "\n",
    "#### **Here’s what I achieved:**\n",
    "- #### **Converted numerical mood scores into useful categories**\n",
    "- #### **Balanced the data using SMOTE**\n",
    "- #### **Applied and compared 3 powerful models: RF, XGBoost, and DNN**\n",
    "- #### **Used SHAP to explain the model’s decision-making**\n",
    "\n",
    "### **My Observations:**\n",
    "- #### **XGBoost and DNN performed the best overall**\n",
    "- #### **Intensity, Mood Before, and Duration were key features across all models**\n",
    "- #### **Balancing the classes made a big difference, especially for the “Bad” mood predictions**\n",
    "\n",
    "> #### **This was a great experience — from data cleaning to deploying deep learning models with interpretation. I’m confident that this project shows my readiness to solve real-world problems using data science.**\n"
   ]
  },
  {
   "cell_type": "markdown",
   "id": "1fd1332e-25ae-4a03-9bc1-f01dda0743cd",
   "metadata": {},
   "source": [
    "# **About Me**\n",
    "\n",
    "#### **Name:** Prince Raj  \n",
    "#### **Program:** Postgraduate Certificate in Data Science and AI\n",
    "#### **Institute:** IIT Roorkee x CloudxLab  \n",
    "#### **Submission:** August 2025 Capstone Project"
   ]
  }
 ],
 "metadata": {
  "kernelspec": {
   "display_name": "Python 3 (ipykernel)",
   "language": "python",
   "name": "python3"
  },
  "language_info": {
   "codemirror_mode": {
    "name": "ipython",
    "version": 3
   },
   "file_extension": ".py",
   "mimetype": "text/x-python",
   "name": "python",
   "nbconvert_exporter": "python",
   "pygments_lexer": "ipython3",
   "version": "3.12.3"
  },
  "widgets": {
   "application/vnd.jupyter.widget-state+json": {
    "state": {},
    "version_major": 2,
    "version_minor": 0
   }
  }
 },
 "nbformat": 4,
 "nbformat_minor": 5
}
